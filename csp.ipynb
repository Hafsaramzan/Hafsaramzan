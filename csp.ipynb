{
  "nbformat": 4,
  "nbformat_minor": 0,
  "metadata": {
    "colab": {
      "provenance": [],
      "authorship_tag": "ABX9TyMcNp+Om/+o34c7NwFOXJfR",
      "include_colab_link": true
    },
    "kernelspec": {
      "name": "python3",
      "display_name": "Python 3"
    },
    "language_info": {
      "name": "python"
    }
  },
  "cells": [
    {
      "cell_type": "markdown",
      "metadata": {
        "id": "view-in-github",
        "colab_type": "text"
      },
      "source": [
        "<a href=\"https://colab.research.google.com/github/Hafsaramzan/Hafsaramzan/blob/main/csp.ipynb\" target=\"_parent\"><img src=\"https://colab.research.google.com/assets/colab-badge.svg\" alt=\"Open In Colab\"/></a>"
      ]
    },
    {
      "cell_type": "code",
      "execution_count": null,
      "metadata": {
        "id": "sa2dWzWTwNi7"
      },
      "outputs": [],
      "source": [
        "import itertools\n",
        "\n",
        "# Create a list of variables, which are the regions of Australia\n",
        "variables = ['Western Australia', 'Northern Territory', 'South Australia', 'Queensland', \n",
        "             'New South Wales', 'Victoria', 'Tasmania']\n",
        "\n",
        "# Create a list of domains, which are the colors that can be assigned to each region\n",
        "domains = {variable: ['red', 'green', 'blue'] for variable in variables}\n",
        "\n",
        "# Define the constraints. In this case, a constraint is a pair of variables that cannot\n",
        "# be assigned the same color\n",
        "constraints = [('Western Australia', 'Northern Territory'), \n",
        "               ('Western Australia', 'South Australia'), \n",
        "               ('Northern Territory', 'Queensland'), \n",
        "               ('South Australia', 'Queensland'), \n",
        "               ('South Australia', 'New South Wales'), \n",
        "               ('South Australia', 'Victoria'), \n",
        "               ('Queensland', 'New South Wales'), \n",
        "               ('Victoria', 'New South Wales'), \n",
        "               ('Victoria', 'Tasmania')]\n",
        "\n",
        "# Create a function to check if a proposed assignment of colors to variables is valid\n",
        "def is_valid(assignment):\n",
        "    # Iterate through each pair of variables in the constraints\n",
        "    for var1, var2 in constraints:\n",
        "        # If the two variables are assigned the same color, the assignment is not valid\n",
        "        if assignment[var1] == assignment[var2]:\n",
        "            return False\n",
        "    # If no constraints were violated, the assignment is valid\n",
        "    return True\n",
        "\n",
        "# Create a function to find a solution to the CSP using backtracking\n",
        "def backtracking_search(assignment, variables, domains):\n",
        "    # If all variables have been assigned, return the assignment if it is valid\n",
        "    if len(assignment) == len(variables):\n",
        "        if is_valid(assignment):\n",
        "            return assignment\n",
        "        else:\n",
        "            return None\n",
        "    # Choose an unassigned variable\n",
        "    unassigned_variable = [var for var in variables if var not in assignment][0]\n",
        "    # Try assigning each value in the domain of the unassigned variable\n",
        "    for value in domains[unassigned_variable]:\n",
        "        assignment[unassigned_variable] = value\n",
        "        # Check if the assignment is valid, and if so, attempt to complete the assignment\n",
        "        result = backtracking_search(assignment, variables, domains)\n",
        "        if result is not None:\n",
        "            return result\n",
        "        # If the assignment is not valid, remove the variable and try the next value in the domain\n",
        "        del assignment[unassigned_variable]\n",
        "    # If no valid value was found, return None\n",
        "    return None\n",
        "\n",
        "# Find a solution to the CSP\n",
        "solution = backtracking_search({}, variables, domains)\n",
        "\n",
        "# Print the solution\n",
        "print(solution)"
      ]
    }
  ]
}